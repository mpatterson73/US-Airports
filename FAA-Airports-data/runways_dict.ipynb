{
 "cells": [
  {
   "cell_type": "code",
   "execution_count": 1,
   "metadata": {},
   "outputs": [],
   "source": [
    "import numpy as np\n",
    "import pandas as pd\n",
    "import re\n",
    "import openpyxl"
   ]
  },
  {
   "cell_type": "code",
   "execution_count": 2,
   "metadata": {},
   "outputs": [],
   "source": [
    "infile = open('../Raw-FAA-Data/airport-data-dictionaries.xlsx', mode='r+b')"
   ]
  },
  {
   "cell_type": "code",
   "execution_count": 3,
   "metadata": {},
   "outputs": [
    {
     "data": {
      "text/html": [
       "<div>\n",
       "<style scoped>\n",
       "    .dataframe tbody tr th:only-of-type {\n",
       "        vertical-align: middle;\n",
       "    }\n",
       "\n",
       "    .dataframe tbody tr th {\n",
       "        vertical-align: top;\n",
       "    }\n",
       "\n",
       "    .dataframe thead th {\n",
       "        text-align: right;\n",
       "    }\n",
       "</style>\n",
       "<table border=\"1\" class=\"dataframe\">\n",
       "  <thead>\n",
       "    <tr style=\"text-align: right;\">\n",
       "      <th></th>\n",
       "      <th>Number</th>\n",
       "      <th>Description</th>\n",
       "    </tr>\n",
       "    <tr>\n",
       "      <th>Field</th>\n",
       "      <th></th>\n",
       "      <th></th>\n",
       "    </tr>\n",
       "  </thead>\n",
       "  <tbody>\n",
       "    <tr>\n",
       "      <th>SiteNumber</th>\n",
       "      <td>DLID</td>\n",
       "      <td>Landing facility site number. The unique identifying number of the airport whose runway is being described. Together with the runway id field, this provides the unique key to a runway record.</td>\n",
       "    </tr>\n",
       "    <tr>\n",
       "      <th>State</th>\n",
       "      <td>DLID</td>\n",
       "      <td>Runway state post office code. The state where the landing facility is located. This was used in sorting the entire file by state and site number.</td>\n",
       "    </tr>\n",
       "    <tr>\n",
       "      <th>RunwayID</th>\n",
       "      <td>DLID</td>\n",
       "      <td>Runway identification. Ex. 01/19; 18L/36R (parallel runways); H1 (helipad); N/S (north/south); ALL/WAY (sealane); B1 (balloonport)</td>\n",
       "    </tr>\n",
       "    <tr>\n",
       "      <th>RunwayLength</th>\n",
       "      <td>A31</td>\n",
       "      <td>Physical runway length (nearest foot) (ex. 3500)</td>\n",
       "    </tr>\n",
       "    <tr>\n",
       "      <th>RunwayWidth</th>\n",
       "      <td>A32</td>\n",
       "      <td>Physical runway width (nearest foot) (ex. 100)</td>\n",
       "    </tr>\n",
       "  </tbody>\n",
       "</table>\n",
       "</div>"
      ],
      "text/plain": [
       "             Number  \\\n",
       "Field                 \n",
       "SiteNumber     DLID   \n",
       "State          DLID   \n",
       "RunwayID       DLID   \n",
       "RunwayLength    A31   \n",
       "RunwayWidth     A32   \n",
       "\n",
       "                                                                                                                                                                                                  Description  \n",
       "Field                                                                                                                                                                                                          \n",
       "SiteNumber    Landing facility site number. The unique identifying number of the airport whose runway is being described. Together with the runway id field, this provides the unique key to a runway record.  \n",
       "State                                                      Runway state post office code. The state where the landing facility is located. This was used in sorting the entire file by state and site number.  \n",
       "RunwayID                                                                   Runway identification. Ex. 01/19; 18L/36R (parallel runways); H1 (helipad); N/S (north/south); ALL/WAY (sealane); B1 (balloonport)  \n",
       "RunwayLength                                                                                                                                                 Physical runway length (nearest foot) (ex. 3500)  \n",
       "RunwayWidth                                                                                                                                                    Physical runway width (nearest foot) (ex. 100)  "
      ]
     },
     "execution_count": 3,
     "metadata": {},
     "output_type": "execute_result"
    }
   ],
   "source": [
    "df = pd.read_excel(infile, sheet_name=2, index_col='Field')\n",
    "\n",
    "pd.set_option('display.max_columns', 5)\n",
    "pd.set_option('display.max_rows', 140)\n",
    "pd.set_option('display.max_colwidth', None)\n",
    "df.head()"
   ]
  },
  {
   "cell_type": "code",
   "execution_count": 4,
   "metadata": {},
   "outputs": [
    {
     "data": {
      "text/html": [
       "<div>\n",
       "<style scoped>\n",
       "    .dataframe tbody tr th:only-of-type {\n",
       "        vertical-align: middle;\n",
       "    }\n",
       "\n",
       "    .dataframe tbody tr th {\n",
       "        vertical-align: top;\n",
       "    }\n",
       "\n",
       "    .dataframe thead th {\n",
       "        text-align: right;\n",
       "    }\n",
       "</style>\n",
       "<table border=\"1\" class=\"dataframe\">\n",
       "  <thead>\n",
       "    <tr style=\"text-align: right;\">\n",
       "      <th></th>\n",
       "      <th>category_id</th>\n",
       "      <th>description</th>\n",
       "    </tr>\n",
       "    <tr>\n",
       "      <th>Field</th>\n",
       "      <th></th>\n",
       "      <th></th>\n",
       "    </tr>\n",
       "  </thead>\n",
       "  <tbody>\n",
       "    <tr>\n",
       "      <th>SiteNumber</th>\n",
       "      <td>DLID</td>\n",
       "      <td>Landing facility site number. The unique identifying number of the airport whose runway is being described. Together with the runway id field, this provides the unique key to a runway record.</td>\n",
       "    </tr>\n",
       "    <tr>\n",
       "      <th>State</th>\n",
       "      <td>DLID</td>\n",
       "      <td>Runway state post office code. The state where the landing facility is located. This was used in sorting the entire file by state and site number.</td>\n",
       "    </tr>\n",
       "    <tr>\n",
       "      <th>RunwayID</th>\n",
       "      <td>DLID</td>\n",
       "      <td>Runway identification. Ex. 01/19; 18L/36R (parallel runways); H1 (helipad); N/S (north/south); ALL/WAY (sealane); B1 (balloonport)</td>\n",
       "    </tr>\n",
       "    <tr>\n",
       "      <th>RunwayLength</th>\n",
       "      <td>A31</td>\n",
       "      <td>Physical runway length (nearest foot) (ex. 3500)</td>\n",
       "    </tr>\n",
       "    <tr>\n",
       "      <th>RunwayWidth</th>\n",
       "      <td>A32</td>\n",
       "      <td>Physical runway width (nearest foot) (ex. 100)</td>\n",
       "    </tr>\n",
       "  </tbody>\n",
       "</table>\n",
       "</div>"
      ],
      "text/plain": [
       "             category_id  \\\n",
       "Field                      \n",
       "SiteNumber          DLID   \n",
       "State               DLID   \n",
       "RunwayID            DLID   \n",
       "RunwayLength         A31   \n",
       "RunwayWidth          A32   \n",
       "\n",
       "                                                                                                                                                                                                  description  \n",
       "Field                                                                                                                                                                                                          \n",
       "SiteNumber    Landing facility site number. The unique identifying number of the airport whose runway is being described. Together with the runway id field, this provides the unique key to a runway record.  \n",
       "State                                                      Runway state post office code. The state where the landing facility is located. This was used in sorting the entire file by state and site number.  \n",
       "RunwayID                                                                   Runway identification. Ex. 01/19; 18L/36R (parallel runways); H1 (helipad); N/S (north/south); ALL/WAY (sealane); B1 (balloonport)  \n",
       "RunwayLength                                                                                                                                                 Physical runway length (nearest foot) (ex. 3500)  \n",
       "RunwayWidth                                                                                                                                                    Physical runway width (nearest foot) (ex. 100)  "
      ]
     },
     "execution_count": 4,
     "metadata": {},
     "output_type": "execute_result"
    }
   ],
   "source": [
    "df.rename(columns={'Number':'category_id', 'Description': 'description'}, inplace=True)\n",
    "df.head()"
   ]
  },
  {
   "cell_type": "code",
   "execution_count": 5,
   "metadata": {},
   "outputs": [],
   "source": [
    "#NOTE: 'ActivationDate' was modified to 'ActiviationDate' to match typo in source file. \n",
    "\n",
    "labels_to_keep = ['SiteNumber', 'State', 'RunwayID', 'RunwayLength', 'RunwayWidth', 'RunwaySurfaceTypeCondition', 'RunwaySurfaceTreatment', 'EdgeLightsIntensity', 'BaseEndID', 'BaseEndTrueAlignment', 'BaseEndILSType', 'BaseEndRightTrafficPattern', 'BaseEndMarkingsType', 'BaseEndMarkingsCondition', 'BaseEndPhysicalLatitude', 'BaseEndPhysicalLatitudeS', 'BaseEndPhysicalLongitude', 'BaseEndPhysicalLongitudeS', 'BaseEndPhysicalElevation', 'BaseEndCrossingHeight', 'BaseEndGlidePathAngle', 'BaseEndDisplacedLength', 'BaseEndVASI', 'BaseEndCenterlineLights', 'BaseEndTouchdownLights', 'BaseEndObjectDescription', 'BaseEndObjectHeight', 'ReciprocalEndID', 'ReciprocalEndTrueAlignment', 'ReciprocalEndILSType', 'ReciprocalEndRightTrafficPattern', 'ReciprocalEndMarkingsType', 'ReciprocalEndMarkingsCondition', 'ReciprocalEndPhysicalLatitude', 'ReciprocalEndPhysicalLatitudeS', 'ReciprocalEndPhysicalLongitude', 'ReciprocalEndPhysicalLongitudeS', 'ReciprocalEndPhysicalElevation', 'ReciprocalEndCrossingHeight', 'ReciprocalEndGlidePathAngle', 'ReciprocalEndDisplacedLength', 'ReciprocalEndVASI', 'ReciprocalEndCenterlineLights', 'ReciprocalEndTouchdownLights', 'ReciprocalEndObjectDescription', 'ReciprocalEndObjectHeight', 'RunwayWeightBearingCapacitySW', 'RunwayWeightBearingCapacityDW', 'RunwayWeightBearingCapacityDT', 'RunwayWeightBearingCapacityDDT', 'BaseEndTakeOffRunAvailableTORA', 'BaseEndTakeOffDistanceAvailableTODA', 'BaseEndAcltStopDistanceAvailableASDA', 'BaseEndLandingDistanceAvailableLDA', 'ReciprocalEndTakeOffRunAvailableTORA', 'ReciprocalEndTakeOffDistanceAvailableTODA', 'ReciprocalEndAcltStopDistanceAvailableASDA', 'ReciprocalEndLandingDistanceAvailableLDA']\n",
    "labels_to_drop = [x for x in list(df.index) if x not in labels_to_keep]"
   ]
  },
  {
   "cell_type": "code",
   "execution_count": 6,
   "metadata": {},
   "outputs": [
    {
     "data": {
      "text/html": [
       "<div>\n",
       "<style scoped>\n",
       "    .dataframe tbody tr th:only-of-type {\n",
       "        vertical-align: middle;\n",
       "    }\n",
       "\n",
       "    .dataframe tbody tr th {\n",
       "        vertical-align: top;\n",
       "    }\n",
       "\n",
       "    .dataframe thead th {\n",
       "        text-align: right;\n",
       "    }\n",
       "</style>\n",
       "<table border=\"1\" class=\"dataframe\">\n",
       "  <thead>\n",
       "    <tr style=\"text-align: right;\">\n",
       "      <th></th>\n",
       "      <th>category_id</th>\n",
       "      <th>description</th>\n",
       "    </tr>\n",
       "    <tr>\n",
       "      <th>Field</th>\n",
       "      <th></th>\n",
       "      <th></th>\n",
       "    </tr>\n",
       "  </thead>\n",
       "  <tbody>\n",
       "    <tr>\n",
       "      <th>SiteNumber</th>\n",
       "      <td>DLID</td>\n",
       "      <td>Landing facility site number. The unique identifying number of the airport whose runway is being described. Together with the runway id field, this provides the unique key to a runway record.</td>\n",
       "    </tr>\n",
       "    <tr>\n",
       "      <th>State</th>\n",
       "      <td>DLID</td>\n",
       "      <td>Runway state post office code. The state where the landing facility is located. This was used in sorting the entire file by state and site number.</td>\n",
       "    </tr>\n",
       "    <tr>\n",
       "      <th>RunwayID</th>\n",
       "      <td>DLID</td>\n",
       "      <td>Runway identification. Ex. 01/19; 18L/36R (parallel runways); H1 (helipad); N/S (north/south); ALL/WAY (sealane); B1 (balloonport)</td>\n",
       "    </tr>\n",
       "    <tr>\n",
       "      <th>RunwayLength</th>\n",
       "      <td>A31</td>\n",
       "      <td>Physical runway length (nearest foot) (ex. 3500)</td>\n",
       "    </tr>\n",
       "    <tr>\n",
       "      <th>RunwayWidth</th>\n",
       "      <td>A32</td>\n",
       "      <td>Physical runway width (nearest foot) (ex. 100)</td>\n",
       "    </tr>\n",
       "  </tbody>\n",
       "</table>\n",
       "</div>"
      ],
      "text/plain": [
       "             category_id  \\\n",
       "Field                      \n",
       "SiteNumber          DLID   \n",
       "State               DLID   \n",
       "RunwayID            DLID   \n",
       "RunwayLength         A31   \n",
       "RunwayWidth          A32   \n",
       "\n",
       "                                                                                                                                                                                                  description  \n",
       "Field                                                                                                                                                                                                          \n",
       "SiteNumber    Landing facility site number. The unique identifying number of the airport whose runway is being described. Together with the runway id field, this provides the unique key to a runway record.  \n",
       "State                                                      Runway state post office code. The state where the landing facility is located. This was used in sorting the entire file by state and site number.  \n",
       "RunwayID                                                                   Runway identification. Ex. 01/19; 18L/36R (parallel runways); H1 (helipad); N/S (north/south); ALL/WAY (sealane); B1 (balloonport)  \n",
       "RunwayLength                                                                                                                                                 Physical runway length (nearest foot) (ex. 3500)  \n",
       "RunwayWidth                                                                                                                                                    Physical runway width (nearest foot) (ex. 100)  "
      ]
     },
     "execution_count": 6,
     "metadata": {},
     "output_type": "execute_result"
    }
   ],
   "source": [
    "df.drop(index=labels_to_drop, inplace=True)\n",
    "df.head()"
   ]
  },
  {
   "cell_type": "code",
   "execution_count": 7,
   "metadata": {},
   "outputs": [],
   "source": [
    "\n",
    "df.index = [re.sub(r'(?<=[a-z])(?=[A-Z])|(?<=[A-Z])(?=[A-Z][a-z])|(?<=[A-Z])(?=ID)', '_', label) for label in df.index]\n",
    "df.index = df.index.str.strip().str.lower()\n",
    "df.index = [re.sub(r'_end', '', label) for label in df.index]\n",
    "df.index = [re.sub(r'reciprocal', 'rcpr', label) for label in df.index]\n",
    "df.index = [re.sub(r'rcpr_id', 'reciprocal_end_id', label) for label in df.index]\n",
    "df.index = [re.sub(r'base_id', 'base_end_id', label) for label in df.index]\n",
    "df.index = [re.sub(r'condition', 'cond', label) for label in df.index]\n",
    "df.index = [re.sub(r'_physical|_description|_traffic|', '', label) for label in df.index]\n",
    "df.index = [re.sub(r'weight_bearing_capacity', 'capacity_lbs', label) for label in df.index]\n",
    "df.index = [re.sub(r'_take_off_run_available|_take_off_distance_available|_aclt_stop_distance_available|_landing_distance_available',\n",
    "            '', label) for label in df.index]\n"
   ]
  },
  {
   "cell_type": "code",
   "execution_count": 8,
   "metadata": {},
   "outputs": [],
   "source": [
    "df.index.rename('category', inplace=True)"
   ]
  },
  {
   "cell_type": "code",
   "execution_count": 9,
   "metadata": {},
   "outputs": [
    {
     "data": {
      "text/html": [
       "<div>\n",
       "<style scoped>\n",
       "    .dataframe tbody tr th:only-of-type {\n",
       "        vertical-align: middle;\n",
       "    }\n",
       "\n",
       "    .dataframe tbody tr th {\n",
       "        vertical-align: top;\n",
       "    }\n",
       "\n",
       "    .dataframe thead th {\n",
       "        text-align: right;\n",
       "    }\n",
       "</style>\n",
       "<table border=\"1\" class=\"dataframe\">\n",
       "  <thead>\n",
       "    <tr style=\"text-align: right;\">\n",
       "      <th></th>\n",
       "      <th>category_id</th>\n",
       "      <th>description</th>\n",
       "    </tr>\n",
       "    <tr>\n",
       "      <th>category</th>\n",
       "      <th></th>\n",
       "      <th></th>\n",
       "    </tr>\n",
       "  </thead>\n",
       "  <tbody>\n",
       "    <tr>\n",
       "      <th>site_number</th>\n",
       "      <td>DLID</td>\n",
       "      <td>Landing facility site number. The unique identifying number of the airport whose runway is being described. Together with the runway id field, this provides the unique key to a runway record.</td>\n",
       "    </tr>\n",
       "    <tr>\n",
       "      <th>state</th>\n",
       "      <td>DLID</td>\n",
       "      <td>Runway state post office code. The state where the landing facility is located. This was used in sorting the entire file by state and site number.</td>\n",
       "    </tr>\n",
       "    <tr>\n",
       "      <th>runway_id</th>\n",
       "      <td>DLID</td>\n",
       "      <td>Runway identification. Ex. 01/19; 18L/36R (parallel runways); H1 (helipad); N/S (north/south); ALL/WAY (sealane); B1 (balloonport)</td>\n",
       "    </tr>\n",
       "    <tr>\n",
       "      <th>runway_length</th>\n",
       "      <td>A31</td>\n",
       "      <td>Physical runway length (nearest foot) (ex. 3500)</td>\n",
       "    </tr>\n",
       "    <tr>\n",
       "      <th>runway_width</th>\n",
       "      <td>A32</td>\n",
       "      <td>Physical runway width (nearest foot) (ex. 100)</td>\n",
       "    </tr>\n",
       "  </tbody>\n",
       "</table>\n",
       "</div>"
      ],
      "text/plain": [
       "              category_id  \\\n",
       "category                    \n",
       "site_number          DLID   \n",
       "state                DLID   \n",
       "runway_id            DLID   \n",
       "runway_length         A31   \n",
       "runway_width          A32   \n",
       "\n",
       "                                                                                                                                                                                                   description  \n",
       "category                                                                                                                                                                                                        \n",
       "site_number    Landing facility site number. The unique identifying number of the airport whose runway is being described. Together with the runway id field, this provides the unique key to a runway record.  \n",
       "state                                                       Runway state post office code. The state where the landing facility is located. This was used in sorting the entire file by state and site number.  \n",
       "runway_id                                                                   Runway identification. Ex. 01/19; 18L/36R (parallel runways); H1 (helipad); N/S (north/south); ALL/WAY (sealane); B1 (balloonport)  \n",
       "runway_length                                                                                                                                                 Physical runway length (nearest foot) (ex. 3500)  \n",
       "runway_width                                                                                                                                                    Physical runway width (nearest foot) (ex. 100)  "
      ]
     },
     "execution_count": 9,
     "metadata": {},
     "output_type": "execute_result"
    }
   ],
   "source": [
    "df.head()"
   ]
  },
  {
   "cell_type": "code",
   "execution_count": 10,
   "metadata": {},
   "outputs": [],
   "source": [
    "infile.close()"
   ]
  },
  {
   "cell_type": "code",
   "execution_count": 11,
   "metadata": {},
   "outputs": [],
   "source": [
    "outfile = '../Clean-Data/runways_dict.tsv'\n",
    "df.to_csv(outfile, sep='\\t')"
   ]
  },
  {
   "cell_type": "code",
   "execution_count": 12,
   "metadata": {},
   "outputs": [],
   "source": [
    "# outfile = open('../Clean-Data/data_dictionary.xlsx', mode='r+b')\n",
    "# df_facs = pd.read_excel(outfile, sheet_name='Facilities', index_col='category')\n",
    "# df_facs.head()\n",
    "# outfile.close()"
   ]
  },
  {
   "cell_type": "code",
   "execution_count": 13,
   "metadata": {},
   "outputs": [],
   "source": [
    "# with pd.ExcelWriter('../Clean-Data/data_dictionary.xlsx') as writer:\n",
    "#     df_facs.to_excel(writer, sheet_name='Facilites', index_label='category')\n",
    "#     df.to_excel(writer, sheet_name='Runways', index_label='category')\n",
    "#     "
   ]
  },
  {
   "cell_type": "code",
   "execution_count": null,
   "metadata": {},
   "outputs": [],
   "source": []
  }
 ],
 "metadata": {
  "kernelspec": {
   "display_name": "Python 3",
   "language": "python",
   "name": "python3"
  },
  "language_info": {
   "codemirror_mode": {
    "name": "ipython",
    "version": 3
   },
   "file_extension": ".py",
   "mimetype": "text/x-python",
   "name": "python",
   "nbconvert_exporter": "python",
   "pygments_lexer": "ipython3",
   "version": "3.8.1"
  }
 },
 "nbformat": 4,
 "nbformat_minor": 4
}
