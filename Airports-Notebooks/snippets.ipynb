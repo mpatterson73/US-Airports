{
 "cells": [
  {
   "cell_type": "raw",
   "metadata": {},
   "source": [
    "df.drop(columns=['DistrictOffice', 'CountyState', 'ARPMethod', 'ARPElevationMethod', 'LandAreaCoveredByAirport', 'BoundaryARTCCComputerID',\n",
    "                'ResponsibleARTCCComputerID', 'AirportToFSSPhoneNumber', 'AlternateFSSID', 'AlternateFSSName',\n",
    "                'AlternateFSSTollFreeNumber', 'ActivationDate', 'CertificationTypeDate', 'FederalAgreements','AirspaceDetermination',\n",
    "                'InspectionMethod', 'InspectionGroup', 'LastInspectionDate', 'LastOwnerInformationDate', 'SegmentedCircle', 'AirportPositionSource',\n",
    "                'AirportPositionSourceDate', 'AirportElevationSource', 'AirportElevationSourceDate', 'ContractFuelAvailable', 'TransientStorage',\n",
    "                'OtherServices', 'WindIndicator', 'MinimumOperationalNetwork'], inplace=True)\n",
    "        \n",
    "df['column'] = df['column'].map({'yes': True, 'no': False})\n",
    "\n",
    "df['column'] = df['column'].apply(lambda x: x[3:])"
   ]
  },
  {
   "cell_type": "raw",
   "metadata": {},
   "source": [
    "# format spacing and case\n",
    "# add spaces using '_'\n",
    "df.columns = [re.sub(r'(?<=[a-z])(?=[A-Z])', ' ', x) for x in col_list]\n",
    "\n",
    "# convert names to lowercase\n",
    "df.columns = df.columns.str.strip().str.lower().str.replace(' ', '_')"
   ]
  },
  {
   "cell_type": "raw",
   "metadata": {},
   "source": [
    "# mapping snippets\n",
    "\n",
    "df['region'].map({'AGL': 'Great Lakes', 'ASW': 'Southwest', 'ASO': 'Southern', 'AEA': 'Eastern', 'ANM': 'Northwestern Mountain',\n",
    "                 'ACE': 'Central', 'AWP': 'Western Pacific', 'ANE': 'New England', 'AAL': 'Alaska', 'AIN': 'International'})"
   ]
  },
  {
   "cell_type": "code",
   "execution_count": 22,
   "metadata": {},
   "outputs": [
    {
     "data": {
      "text/plain": [
       "'Boundary_ARTCC_ID'"
      ]
     },
     "execution_count": 22,
     "metadata": {},
     "output_type": "execute_result"
    }
   ],
   "source": [
    "import re\n",
    "string = 'BoundaryARTCCID'\n",
    "re.sub(r'(?<=[a-z])(?=[A-Z])|(?<=[A-Z])(?=[A-Z][a-z])|(?<=[A-Z])(?=ID)', '_', string)\n",
    "# re.sub(r'(?<=[A-Z])(?=ID)', '_', string)"
   ]
  },
  {
   "cell_type": "raw",
   "metadata": {},
   "source": [
    "# format spacing and case\n",
    "\n",
    "# add spaces using '_'\n",
    "df.columns = [re.sub(r'(?<=[a-z])(?=[A-Z])|(?<=[A-Z])(?=[A-Z][a-z])', '_', x) for x in col_list]\n",
    "\n",
    "# convert names to lowercase\n",
    "df.columns = df.columns.str.strip().str.lower().str.replace(' ', '_')\n"
   ]
  },
  {
   "cell_type": "raw",
   "metadata": {},
   "source": [
    "# degrees minutes seconds conversion to decimal degrees(DD) formula.\n",
    "\n",
    "(deg * 360 + min * 60 + sec) / 360 = DD     or     deg + (min/60) + (sec/360) = DD\n",
    "\n",
    "# seconds to degrees formula.\n",
    "sec / 3600 = DD"
   ]
  },
  {
   "cell_type": "raw",
   "metadata": {},
   "source": [
    "cols_to_title = ['type', 'state_name', 'county', 'city', 'facility_name', 'owner', 'owner_address', 'owner_csz', 'manager', 'manager_address', \n",
    "    'manager_csz', 'chart_name', 'boundary_artcc_name', 'responsible_artcc_name', 'tie_in_fss_name']\n",
    "\n",
    "exempt_strings = ['AK', 'AL', 'AR', 'AS', 'AZ', 'CA', 'CO', 'CQ', 'CT', 'DC', 'DE','FL', 'GA', 'GU', 'HI', 'IA', 'ID',\n",
    "                  'IL', 'IN', 'KS', 'KY', 'LA', 'MA', 'MD', 'ME', 'MI', 'MN', 'MO', 'MQ', 'MS', 'MT', 'NC', 'ND', 'NE',\n",
    "                  'NH', 'NJ', 'NM', 'NV', 'NY', 'OH', 'OK', 'OR', 'PA', 'PR','RI', 'SC', 'SD', 'TN', 'TX', 'UT', 'VA',\n",
    "                  'VI', 'VT', 'WA', 'WI','WQ', 'WV', 'WY', 'PO', 'DOT&PF', 'DNR', 'LLC', 'USFS', 'HMHS', 'US', 'UA', 'USA',\n",
    "                  'TV', 'AG', 'DSSH', 'BPA', 'DOT', 'USAF', 'TDOT', 'H/O', 'DCNR', 'HOA']\n",
    "                  \n",
    "titled_exempts = [x.title() for x in exempt_strings]\n",
    "\n",
    "# this will be used to convert some abbreviations back to all caps after titling the words in the designated columns\n",
    "abbr_map_dict = dict(('(\\\\s)' + titled_exempts[i], exempt_strings[i])\n",
    "                      for i, abbr in enumerate(exempt_strings))"
   ]
  }
 ],
 "metadata": {
  "kernelspec": {
   "display_name": "Python 3",
   "language": "python",
   "name": "python3"
  },
  "language_info": {
   "codemirror_mode": {
    "name": "ipython",
    "version": 3
   },
   "file_extension": ".py",
   "mimetype": "text/x-python",
   "name": "python",
   "nbconvert_exporter": "python",
   "pygments_lexer": "ipython3",
   "version": "3.8.1"
  }
 },
 "nbformat": 4,
 "nbformat_minor": 4
}
