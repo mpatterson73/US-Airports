{
 "cells": [
  {
   "cell_type": "code",
   "execution_count": 1,
   "metadata": {},
   "outputs": [],
   "source": [
    "import numpy as np\n",
    "import pandas as pd\n",
    "import re\n",
    "import openpyxl"
   ]
  },
  {
   "cell_type": "code",
   "execution_count": 2,
   "metadata": {},
   "outputs": [],
   "source": [
    "infile = open('../Raw-FAA-Data/airport-data-dictionaries.xlsx', mode='r+b')"
   ]
  },
  {
   "cell_type": "code",
   "execution_count": 3,
   "metadata": {},
   "outputs": [
    {
     "data": {
      "text/html": [
       "<div>\n",
       "<style scoped>\n",
       "    .dataframe tbody tr th:only-of-type {\n",
       "        vertical-align: middle;\n",
       "    }\n",
       "\n",
       "    .dataframe tbody tr th {\n",
       "        vertical-align: top;\n",
       "    }\n",
       "\n",
       "    .dataframe thead th {\n",
       "        text-align: right;\n",
       "    }\n",
       "</style>\n",
       "<table border=\"1\" class=\"dataframe\">\n",
       "  <thead>\n",
       "    <tr style=\"text-align: right;\">\n",
       "      <th></th>\n",
       "      <th>Description</th>\n",
       "    </tr>\n",
       "    <tr>\n",
       "      <th>Field</th>\n",
       "      <th></th>\n",
       "    </tr>\n",
       "  </thead>\n",
       "  <tbody>\n",
       "    <tr>\n",
       "      <th>SiteNumber</th>\n",
       "      <td>Landing facility site number - a unique identifying number which, together with the landing facility type code, forms the key to the airport record. (ex. 04508.*A)</td>\n",
       "    </tr>\n",
       "    <tr>\n",
       "      <th>State</th>\n",
       "      <td>Associated state post office code standard two letter abbreviation for u.s. states and territories. (ex. IL, PR, CQ)</td>\n",
       "    </tr>\n",
       "    <tr>\n",
       "      <th>SequenceNumber</th>\n",
       "      <td>Attendance schedule sequence number.  A number which, together with the site number, uniquely identifies the attendance schedule component.</td>\n",
       "    </tr>\n",
       "    <tr>\n",
       "      <th>AttendanceSchedule</th>\n",
       "      <td>Airport attendance schedule (when minimum services are available). Format is months/days/hours where the first part describes the months that the facility is attended, then the days of the week that the facility is open, and finally the hours within the day that it is attended.  This field may also contain 'UNATNDD' for unattended facilities.  If there are different schedules for different times of the year or different days of the week there will be separate records for each set of monts, days, and hours of attendance.  (ex. 'ALL/MON-FRI/SR-SS' means the facility is open year-round, monday thru friday, from sunrise to sunset).</td>\n",
       "    </tr>\n",
       "  </tbody>\n",
       "</table>\n",
       "</div>"
      ],
      "text/plain": [
       "                                                                                                                                                                                                                                                                                                                                                                                                                                                                                                                                                                                                                                                                    Description\n",
       "Field                                                                                                                                                                                                                                                                                                                                                                                                                                                                                                                                                                                                                                                                          \n",
       "SiteNumber                                                                                                                                                                                                                                                                                                                                                                                                                                                                                                  Landing facility site number - a unique identifying number which, together with the landing facility type code, forms the key to the airport record. (ex. 04508.*A)\n",
       "State                                                                                                                                                                                                                                                                                                                                                                                                                                                                                                                                                      Associated state post office code standard two letter abbreviation for u.s. states and territories. (ex. IL, PR, CQ)\n",
       "SequenceNumber                                                                                                                                                                                                                                                                                                                                                                                                                                                                                                                      Attendance schedule sequence number.  A number which, together with the site number, uniquely identifies the attendance schedule component.\n",
       "AttendanceSchedule  Airport attendance schedule (when minimum services are available). Format is months/days/hours where the first part describes the months that the facility is attended, then the days of the week that the facility is open, and finally the hours within the day that it is attended.  This field may also contain 'UNATNDD' for unattended facilities.  If there are different schedules for different times of the year or different days of the week there will be separate records for each set of monts, days, and hours of attendance.  (ex. 'ALL/MON-FRI/SR-SS' means the facility is open year-round, monday thru friday, from sunrise to sunset)."
      ]
     },
     "execution_count": 3,
     "metadata": {},
     "output_type": "execute_result"
    }
   ],
   "source": [
    "df = pd.read_excel(infile, sheet_name=3, index_col='Field', usecols='A,C')\n",
    "\n",
    "pd.set_option('display.max_columns', 5)\n",
    "pd.set_option('display.max_rows', 140)\n",
    "pd.set_option('display.max_colwidth', None)\n",
    "df"
   ]
  },
  {
   "cell_type": "code",
   "execution_count": 6,
   "metadata": {},
   "outputs": [],
   "source": [
    "\n",
    "df.index = [re.sub(r'(?<=[a-z])(?=[A-Z])|(?<=[A-Z])(?=[A-Z][a-z])|(?<=[A-Z])(?=ID)', '_', label) for label in df.index]\n",
    "df.index = df.index.str.strip().str.lower()"
   ]
  },
  {
   "cell_type": "code",
   "execution_count": 7,
   "metadata": {},
   "outputs": [],
   "source": [
    "df.index.rename('category', inplace=True)"
   ]
  },
  {
   "cell_type": "code",
   "execution_count": 9,
   "metadata": {},
   "outputs": [
    {
     "data": {
      "text/html": [
       "<div>\n",
       "<style scoped>\n",
       "    .dataframe tbody tr th:only-of-type {\n",
       "        vertical-align: middle;\n",
       "    }\n",
       "\n",
       "    .dataframe tbody tr th {\n",
       "        vertical-align: top;\n",
       "    }\n",
       "\n",
       "    .dataframe thead th {\n",
       "        text-align: right;\n",
       "    }\n",
       "</style>\n",
       "<table border=\"1\" class=\"dataframe\">\n",
       "  <thead>\n",
       "    <tr style=\"text-align: right;\">\n",
       "      <th></th>\n",
       "      <th>Description</th>\n",
       "    </tr>\n",
       "    <tr>\n",
       "      <th>category</th>\n",
       "      <th></th>\n",
       "    </tr>\n",
       "  </thead>\n",
       "  <tbody>\n",
       "    <tr>\n",
       "      <th>site_number</th>\n",
       "      <td>Landing facility site number - a unique identifying number which, together with the landing facility type code, forms the key to the airport record. (ex. 04508.*A)</td>\n",
       "    </tr>\n",
       "    <tr>\n",
       "      <th>state</th>\n",
       "      <td>Associated state post office code standard two letter abbreviation for u.s. states and territories. (ex. IL, PR, CQ)</td>\n",
       "    </tr>\n",
       "    <tr>\n",
       "      <th>sequence_number</th>\n",
       "      <td>Attendance schedule sequence number.  A number which, together with the site number, uniquely identifies the attendance schedule component.</td>\n",
       "    </tr>\n",
       "    <tr>\n",
       "      <th>attendance_schedule</th>\n",
       "      <td>Airport attendance schedule (when minimum services are available). Format is months/days/hours where the first part describes the months that the facility is attended, then the days of the week that the facility is open, and finally the hours within the day that it is attended.  This field may also contain 'UNATNDD' for unattended facilities.  If there are different schedules for different times of the year or different days of the week there will be separate records for each set of monts, days, and hours of attendance.  (ex. 'ALL/MON-FRI/SR-SS' means the facility is open year-round, monday thru friday, from sunrise to sunset).</td>\n",
       "    </tr>\n",
       "  </tbody>\n",
       "</table>\n",
       "</div>"
      ],
      "text/plain": [
       "                                                                                                                                                                                                                                                                                                                                                                                                                                                                                                                                                                                                                                                                     Description\n",
       "category                                                                                                                                                                                                                                                                                                                                                                                                                                                                                                                                                                                                                                                                        \n",
       "site_number                                                                                                                                                                                                                                                                                                                                                                                                                                                                                                  Landing facility site number - a unique identifying number which, together with the landing facility type code, forms the key to the airport record. (ex. 04508.*A)\n",
       "state                                                                                                                                                                                                                                                                                                                                                                                                                                                                                                                                                       Associated state post office code standard two letter abbreviation for u.s. states and territories. (ex. IL, PR, CQ)\n",
       "sequence_number                                                                                                                                                                                                                                                                                                                                                                                                                                                                                                                      Attendance schedule sequence number.  A number which, together with the site number, uniquely identifies the attendance schedule component.\n",
       "attendance_schedule  Airport attendance schedule (when minimum services are available). Format is months/days/hours where the first part describes the months that the facility is attended, then the days of the week that the facility is open, and finally the hours within the day that it is attended.  This field may also contain 'UNATNDD' for unattended facilities.  If there are different schedules for different times of the year or different days of the week there will be separate records for each set of monts, days, and hours of attendance.  (ex. 'ALL/MON-FRI/SR-SS' means the facility is open year-round, monday thru friday, from sunrise to sunset)."
      ]
     },
     "execution_count": 9,
     "metadata": {},
     "output_type": "execute_result"
    }
   ],
   "source": [
    "df.head()"
   ]
  },
  {
   "cell_type": "code",
   "execution_count": 10,
   "metadata": {},
   "outputs": [],
   "source": [
    "infile.close()"
   ]
  },
  {
   "cell_type": "code",
   "execution_count": 11,
   "metadata": {},
   "outputs": [],
   "source": [
    "outfile = '../Clean-Data/schedules_dict.tsv'\n",
    "df.to_csv(outfile, sep='\\t')"
   ]
  },
  {
   "cell_type": "code",
   "execution_count": null,
   "metadata": {},
   "outputs": [],
   "source": []
  }
 ],
 "metadata": {
  "kernelspec": {
   "display_name": "Python 3",
   "language": "python",
   "name": "python3"
  },
  "language_info": {
   "codemirror_mode": {
    "name": "ipython",
    "version": 3
   },
   "file_extension": ".py",
   "mimetype": "text/x-python",
   "name": "python",
   "nbconvert_exporter": "python",
   "pygments_lexer": "ipython3",
   "version": "3.8.1"
  }
 },
 "nbformat": 4,
 "nbformat_minor": 4
}
