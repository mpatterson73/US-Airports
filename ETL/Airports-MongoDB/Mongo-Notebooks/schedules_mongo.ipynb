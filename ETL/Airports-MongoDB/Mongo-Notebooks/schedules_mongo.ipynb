{
 "cells": [
  {
   "cell_type": "code",
   "execution_count": 1,
   "metadata": {},
   "outputs": [],
   "source": [
    "import numpy as np\n",
    "import pandas as pd\n",
    "from pymongo import MongoClient"
   ]
  },
  {
   "cell_type": "code",
   "execution_count": 2,
   "metadata": {},
   "outputs": [],
   "source": [
    "pd.set_option('display.max_rows', 200)"
   ]
  },
  {
   "cell_type": "code",
   "execution_count": 3,
   "metadata": {},
   "outputs": [],
   "source": [
    "df = pd.read_csv(\"../../Clean-Data/schedules_clean.tsv\", sep='\\t', engine='python')"
   ]
  },
  {
   "cell_type": "code",
   "execution_count": 4,
   "metadata": {},
   "outputs": [
    {
     "data": {
      "text/html": [
       "<div>\n",
       "<style scoped>\n",
       "    .dataframe tbody tr th:only-of-type {\n",
       "        vertical-align: middle;\n",
       "    }\n",
       "\n",
       "    .dataframe tbody tr th {\n",
       "        vertical-align: top;\n",
       "    }\n",
       "\n",
       "    .dataframe thead th {\n",
       "        text-align: right;\n",
       "    }\n",
       "</style>\n",
       "<table border=\"1\" class=\"dataframe\">\n",
       "  <thead>\n",
       "    <tr style=\"text-align: right;\">\n",
       "      <th></th>\n",
       "      <th>site_number</th>\n",
       "      <th>state</th>\n",
       "      <th>sequence_number</th>\n",
       "      <th>attendance_schedule</th>\n",
       "    </tr>\n",
       "  </thead>\n",
       "  <tbody>\n",
       "    <tr>\n",
       "      <th>0</th>\n",
       "      <td>00103.*A</td>\n",
       "      <td>AL</td>\n",
       "      <td>1</td>\n",
       "      <td>UNATNDD</td>\n",
       "    </tr>\n",
       "    <tr>\n",
       "      <th>1</th>\n",
       "      <td>00106.*A</td>\n",
       "      <td>AL</td>\n",
       "      <td>1</td>\n",
       "      <td>UNATNDD</td>\n",
       "    </tr>\n",
       "    <tr>\n",
       "      <th>2</th>\n",
       "      <td>00108.*A</td>\n",
       "      <td>AL</td>\n",
       "      <td>1</td>\n",
       "      <td>UNATNDD</td>\n",
       "    </tr>\n",
       "    <tr>\n",
       "      <th>3</th>\n",
       "      <td>00110.*A</td>\n",
       "      <td>AL</td>\n",
       "      <td>1</td>\n",
       "      <td>ALL/ALL/0700-1900</td>\n",
       "    </tr>\n",
       "    <tr>\n",
       "      <th>4</th>\n",
       "      <td>00110.01*H</td>\n",
       "      <td>AL</td>\n",
       "      <td>1</td>\n",
       "      <td>ALL/ALL/ALL</td>\n",
       "    </tr>\n",
       "    <tr>\n",
       "      <th>5</th>\n",
       "      <td>00112.1*A</td>\n",
       "      <td>AL</td>\n",
       "      <td>1</td>\n",
       "      <td>ALL/MON-SAT/0700-DUSK</td>\n",
       "    </tr>\n",
       "    <tr>\n",
       "      <th>6</th>\n",
       "      <td>00112.1*A</td>\n",
       "      <td>AL</td>\n",
       "      <td>2</td>\n",
       "      <td>ALL/SUN/1230-DUSK</td>\n",
       "    </tr>\n",
       "    <tr>\n",
       "      <th>7</th>\n",
       "      <td>00116.*A</td>\n",
       "      <td>AL</td>\n",
       "      <td>1</td>\n",
       "      <td>ALL/MON-FRI/0800-1700</td>\n",
       "    </tr>\n",
       "    <tr>\n",
       "      <th>8</th>\n",
       "      <td>00119.*A</td>\n",
       "      <td>AL</td>\n",
       "      <td>1</td>\n",
       "      <td>UNATNDD</td>\n",
       "    </tr>\n",
       "    <tr>\n",
       "      <th>9</th>\n",
       "      <td>00124.*A</td>\n",
       "      <td>AL</td>\n",
       "      <td>4</td>\n",
       "      <td>ALL/SAT/0800-1630</td>\n",
       "    </tr>\n",
       "  </tbody>\n",
       "</table>\n",
       "</div>"
      ],
      "text/plain": [
       "  site_number state  sequence_number    attendance_schedule\n",
       "0    00103.*A    AL                1                UNATNDD\n",
       "1    00106.*A    AL                1                UNATNDD\n",
       "2    00108.*A    AL                1                UNATNDD\n",
       "3    00110.*A    AL                1      ALL/ALL/0700-1900\n",
       "4  00110.01*H    AL                1            ALL/ALL/ALL\n",
       "5   00112.1*A    AL                1  ALL/MON-SAT/0700-DUSK\n",
       "6   00112.1*A    AL                2      ALL/SUN/1230-DUSK\n",
       "7    00116.*A    AL                1  ALL/MON-FRI/0800-1700\n",
       "8    00119.*A    AL                1                UNATNDD\n",
       "9    00124.*A    AL                4      ALL/SAT/0800-1630"
      ]
     },
     "execution_count": 4,
     "metadata": {},
     "output_type": "execute_result"
    }
   ],
   "source": [
    "df.head(10)\n"
   ]
  },
  {
   "cell_type": "code",
   "execution_count": 5,
   "metadata": {},
   "outputs": [],
   "source": [
    "df.sort_index(inplace=True)"
   ]
  },
  {
   "cell_type": "code",
   "execution_count": 6,
   "metadata": {},
   "outputs": [],
   "source": [
    "schedule_list = df.to_dict(orient='records')"
   ]
  },
  {
   "cell_type": "code",
   "execution_count": 7,
   "metadata": {},
   "outputs": [
    {
     "data": {
      "text/plain": [
       "[{'site_number': '00103.*A',\n",
       "  'state': 'AL',\n",
       "  'sequence_number': 1,\n",
       "  'attendance_schedule': 'UNATNDD'},\n",
       " {'site_number': '00106.*A',\n",
       "  'state': 'AL',\n",
       "  'sequence_number': 1,\n",
       "  'attendance_schedule': 'UNATNDD'},\n",
       " {'site_number': '00108.*A',\n",
       "  'state': 'AL',\n",
       "  'sequence_number': 1,\n",
       "  'attendance_schedule': 'UNATNDD'},\n",
       " {'site_number': '00110.*A',\n",
       "  'state': 'AL',\n",
       "  'sequence_number': 1,\n",
       "  'attendance_schedule': 'ALL/ALL/0700-1900'},\n",
       " {'site_number': '00110.01*H',\n",
       "  'state': 'AL',\n",
       "  'sequence_number': 1,\n",
       "  'attendance_schedule': 'ALL/ALL/ALL'},\n",
       " {'site_number': '00112.1*A',\n",
       "  'state': 'AL',\n",
       "  'sequence_number': 1,\n",
       "  'attendance_schedule': 'ALL/MON-SAT/0700-DUSK'},\n",
       " {'site_number': '00112.1*A',\n",
       "  'state': 'AL',\n",
       "  'sequence_number': 2,\n",
       "  'attendance_schedule': 'ALL/SUN/1230-DUSK'},\n",
       " {'site_number': '00116.*A',\n",
       "  'state': 'AL',\n",
       "  'sequence_number': 1,\n",
       "  'attendance_schedule': 'ALL/MON-FRI/0800-1700'},\n",
       " {'site_number': '00119.*A',\n",
       "  'state': 'AL',\n",
       "  'sequence_number': 1,\n",
       "  'attendance_schedule': 'UNATNDD'},\n",
       " {'site_number': '00124.*A',\n",
       "  'state': 'AL',\n",
       "  'sequence_number': 4,\n",
       "  'attendance_schedule': 'ALL/SAT/0800-1630'}]"
      ]
     },
     "execution_count": 7,
     "metadata": {},
     "output_type": "execute_result"
    }
   ],
   "source": [
    "schedule_list[:10]"
   ]
  },
  {
   "cell_type": "code",
   "execution_count": 8,
   "metadata": {},
   "outputs": [],
   "source": [
    "client = MongoClient('mongodb://localhost:27017/')\n",
    "db = client.us_airports\n",
    "sched_coll = db.schedules"
   ]
  },
  {
   "cell_type": "code",
   "execution_count": 9,
   "metadata": {},
   "outputs": [],
   "source": [
    "results = sched_coll.insert_many(schedule_list)"
   ]
  },
  {
   "cell_type": "code",
   "execution_count": 10,
   "metadata": {},
   "outputs": [
    {
     "data": {
      "text/plain": [
       "True"
      ]
     },
     "execution_count": 10,
     "metadata": {},
     "output_type": "execute_result"
    }
   ],
   "source": [
    "len(results.inserted_ids) == df.shape[0]"
   ]
  },
  {
   "cell_type": "code",
   "execution_count": 11,
   "metadata": {},
   "outputs": [],
   "source": [
    "client.close()"
   ]
  },
  {
   "cell_type": "code",
   "execution_count": null,
   "metadata": {},
   "outputs": [],
   "source": []
  },
  {
   "cell_type": "code",
   "execution_count": null,
   "metadata": {},
   "outputs": [],
   "source": []
  }
 ],
 "metadata": {
  "kernelspec": {
   "display_name": "pandas_env",
   "language": "python",
   "name": "pandas_env"
  },
  "language_info": {
   "codemirror_mode": {
    "name": "ipython",
    "version": 3
   },
   "file_extension": ".py",
   "mimetype": "text/x-python",
   "name": "python",
   "nbconvert_exporter": "python",
   "pygments_lexer": "ipython3",
   "version": "3.8.1"
  }
 },
 "nbformat": 4,
 "nbformat_minor": 4
}
