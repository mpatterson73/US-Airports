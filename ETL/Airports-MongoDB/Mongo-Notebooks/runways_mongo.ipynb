{
 "cells": [
  {
   "cell_type": "code",
   "execution_count": 1,
   "metadata": {},
   "outputs": [],
   "source": [
    "import numpy as np\n",
    "import pandas as pd\n",
    "from pymongo import MongoClient"
   ]
  },
  {
   "cell_type": "code",
   "execution_count": 2,
   "metadata": {},
   "outputs": [],
   "source": [
    "pd.set_option('display.max_rows', 200)"
   ]
  },
  {
   "cell_type": "code",
   "execution_count": 3,
   "metadata": {},
   "outputs": [],
   "source": [
    "df = pd.read_csv(\"../../Clean-Data/runways_clean.tsv\", sep='\\t', engine='python')"
   ]
  },
  {
   "cell_type": "code",
   "execution_count": 4,
   "metadata": {},
   "outputs": [
    {
     "data": {
      "text/html": [
       "<div>\n",
       "<style scoped>\n",
       "    .dataframe tbody tr th:only-of-type {\n",
       "        vertical-align: middle;\n",
       "    }\n",
       "\n",
       "    .dataframe tbody tr th {\n",
       "        vertical-align: top;\n",
       "    }\n",
       "\n",
       "    .dataframe thead th {\n",
       "        text-align: right;\n",
       "    }\n",
       "</style>\n",
       "<table border=\"1\" class=\"dataframe\">\n",
       "  <thead>\n",
       "    <tr style=\"text-align: right;\">\n",
       "      <th></th>\n",
       "      <th>site_number</th>\n",
       "      <th>state</th>\n",
       "      <th>runway_id</th>\n",
       "      <th>runway_length</th>\n",
       "      <th>runway_width</th>\n",
       "      <th>runway_surface_type_cond</th>\n",
       "      <th>runway_surface_treatment</th>\n",
       "      <th>edge_lights_intensity</th>\n",
       "      <th>base_end_id</th>\n",
       "      <th>base_true_alignment</th>\n",
       "      <th>...</th>\n",
       "      <th>runway_capacity_lbs_dt</th>\n",
       "      <th>runway_capacity_lbs_ddt</th>\n",
       "      <th>base_tora</th>\n",
       "      <th>base_toda</th>\n",
       "      <th>base_asda</th>\n",
       "      <th>base_lda</th>\n",
       "      <th>rcpr_tora</th>\n",
       "      <th>rcpr_toda</th>\n",
       "      <th>rcpr_asda</th>\n",
       "      <th>rcpr_lda</th>\n",
       "    </tr>\n",
       "  </thead>\n",
       "  <tbody>\n",
       "    <tr>\n",
       "      <th>0</th>\n",
       "      <td>00103.*A</td>\n",
       "      <td>AL</td>\n",
       "      <td>'17/35</td>\n",
       "      <td>2900</td>\n",
       "      <td>80</td>\n",
       "      <td>ASPH-CONC-F</td>\n",
       "      <td>AFSC</td>\n",
       "      <td>MED</td>\n",
       "      <td>17</td>\n",
       "      <td>172.0</td>\n",
       "      <td>...</td>\n",
       "      <td>NaN</td>\n",
       "      <td>NaN</td>\n",
       "      <td>NaN</td>\n",
       "      <td>NaN</td>\n",
       "      <td>NaN</td>\n",
       "      <td>NaN</td>\n",
       "      <td>NaN</td>\n",
       "      <td>NaN</td>\n",
       "      <td>NaN</td>\n",
       "      <td>NaN</td>\n",
       "    </tr>\n",
       "    <tr>\n",
       "      <th>1</th>\n",
       "      <td>00106.*A</td>\n",
       "      <td>AL</td>\n",
       "      <td>'05/23</td>\n",
       "      <td>2644</td>\n",
       "      <td>112</td>\n",
       "      <td>TURF-G</td>\n",
       "      <td>NONE</td>\n",
       "      <td>UNKNOWN</td>\n",
       "      <td>05</td>\n",
       "      <td>49.0</td>\n",
       "      <td>...</td>\n",
       "      <td>NaN</td>\n",
       "      <td>NaN</td>\n",
       "      <td>NaN</td>\n",
       "      <td>NaN</td>\n",
       "      <td>NaN</td>\n",
       "      <td>NaN</td>\n",
       "      <td>NaN</td>\n",
       "      <td>NaN</td>\n",
       "      <td>NaN</td>\n",
       "      <td>NaN</td>\n",
       "    </tr>\n",
       "    <tr>\n",
       "      <th>2</th>\n",
       "      <td>00108.*A</td>\n",
       "      <td>AL</td>\n",
       "      <td>'01/19</td>\n",
       "      <td>2002</td>\n",
       "      <td>60</td>\n",
       "      <td>TURF-G</td>\n",
       "      <td>NONE</td>\n",
       "      <td>UNKNOWN</td>\n",
       "      <td>01</td>\n",
       "      <td>NaN</td>\n",
       "      <td>...</td>\n",
       "      <td>NaN</td>\n",
       "      <td>NaN</td>\n",
       "      <td>NaN</td>\n",
       "      <td>NaN</td>\n",
       "      <td>NaN</td>\n",
       "      <td>NaN</td>\n",
       "      <td>NaN</td>\n",
       "      <td>NaN</td>\n",
       "      <td>NaN</td>\n",
       "      <td>NaN</td>\n",
       "    </tr>\n",
       "    <tr>\n",
       "      <th>3</th>\n",
       "      <td>00108.*A</td>\n",
       "      <td>AL</td>\n",
       "      <td>'07/25</td>\n",
       "      <td>1104</td>\n",
       "      <td>60</td>\n",
       "      <td>TURF-G</td>\n",
       "      <td>NONE</td>\n",
       "      <td>UNKNOWN</td>\n",
       "      <td>07</td>\n",
       "      <td>NaN</td>\n",
       "      <td>...</td>\n",
       "      <td>NaN</td>\n",
       "      <td>NaN</td>\n",
       "      <td>NaN</td>\n",
       "      <td>NaN</td>\n",
       "      <td>NaN</td>\n",
       "      <td>NaN</td>\n",
       "      <td>NaN</td>\n",
       "      <td>NaN</td>\n",
       "      <td>NaN</td>\n",
       "      <td>NaN</td>\n",
       "    </tr>\n",
       "    <tr>\n",
       "      <th>4</th>\n",
       "      <td>00110.*A</td>\n",
       "      <td>AL</td>\n",
       "      <td>'16/34</td>\n",
       "      <td>5000</td>\n",
       "      <td>75</td>\n",
       "      <td>ASPH-G</td>\n",
       "      <td>NONE</td>\n",
       "      <td>MED</td>\n",
       "      <td>16</td>\n",
       "      <td>157.0</td>\n",
       "      <td>...</td>\n",
       "      <td>NaN</td>\n",
       "      <td>NaN</td>\n",
       "      <td>NaN</td>\n",
       "      <td>NaN</td>\n",
       "      <td>NaN</td>\n",
       "      <td>NaN</td>\n",
       "      <td>NaN</td>\n",
       "      <td>NaN</td>\n",
       "      <td>NaN</td>\n",
       "      <td>NaN</td>\n",
       "    </tr>\n",
       "  </tbody>\n",
       "</table>\n",
       "<p>5 rows × 58 columns</p>\n",
       "</div>"
      ],
      "text/plain": [
       "  site_number state runway_id  runway_length  runway_width  \\\n",
       "0    00103.*A    AL    '17/35           2900            80   \n",
       "1    00106.*A    AL    '05/23           2644           112   \n",
       "2    00108.*A    AL    '01/19           2002            60   \n",
       "3    00108.*A    AL    '07/25           1104            60   \n",
       "4    00110.*A    AL    '16/34           5000            75   \n",
       "\n",
       "  runway_surface_type_cond runway_surface_treatment edge_lights_intensity  \\\n",
       "0              ASPH-CONC-F                     AFSC                   MED   \n",
       "1                   TURF-G                     NONE               UNKNOWN   \n",
       "2                   TURF-G                     NONE               UNKNOWN   \n",
       "3                   TURF-G                     NONE               UNKNOWN   \n",
       "4                   ASPH-G                     NONE                   MED   \n",
       "\n",
       "  base_end_id  base_true_alignment  ... runway_capacity_lbs_dt  \\\n",
       "0          17                172.0  ...                    NaN   \n",
       "1          05                 49.0  ...                    NaN   \n",
       "2          01                  NaN  ...                    NaN   \n",
       "3          07                  NaN  ...                    NaN   \n",
       "4          16                157.0  ...                    NaN   \n",
       "\n",
       "   runway_capacity_lbs_ddt base_tora base_toda base_asda base_lda rcpr_tora  \\\n",
       "0                      NaN       NaN       NaN       NaN      NaN       NaN   \n",
       "1                      NaN       NaN       NaN       NaN      NaN       NaN   \n",
       "2                      NaN       NaN       NaN       NaN      NaN       NaN   \n",
       "3                      NaN       NaN       NaN       NaN      NaN       NaN   \n",
       "4                      NaN       NaN       NaN       NaN      NaN       NaN   \n",
       "\n",
       "  rcpr_toda  rcpr_asda  rcpr_lda  \n",
       "0       NaN        NaN       NaN  \n",
       "1       NaN        NaN       NaN  \n",
       "2       NaN        NaN       NaN  \n",
       "3       NaN        NaN       NaN  \n",
       "4       NaN        NaN       NaN  \n",
       "\n",
       "[5 rows x 58 columns]"
      ]
     },
     "execution_count": 4,
     "metadata": {},
     "output_type": "execute_result"
    }
   ],
   "source": [
    "df.head()"
   ]
  },
  {
   "cell_type": "code",
   "execution_count": 5,
   "metadata": {},
   "outputs": [],
   "source": [
    "rwy_list = df.to_dict(orient='records')"
   ]
  },
  {
   "cell_type": "code",
   "execution_count": 6,
   "metadata": {},
   "outputs": [
    {
     "data": {
      "text/plain": [
       "{'site_number': '00103.*A',\n",
       " 'state': 'AL',\n",
       " 'runway_id': \"'17/35\",\n",
       " 'runway_length': 2900,\n",
       " 'runway_width': 80,\n",
       " 'runway_surface_type_cond': 'ASPH-CONC-F',\n",
       " 'runway_surface_treatment': 'AFSC',\n",
       " 'edge_lights_intensity': 'MED',\n",
       " 'base_end_id': '17',\n",
       " 'base_true_alignment': 172.0,\n",
       " 'base_ils_type': 'NONE',\n",
       " 'base_right_pattern': False,\n",
       " 'base_markings_type': 'BSC',\n",
       " 'base_markings_cond': 'F',\n",
       " 'base_latitude': '31-36-14.9900N',\n",
       " 'base_latitude_s': '113774.9900N',\n",
       " 'base_longitude': '085-14-20.2000W',\n",
       " 'base_longitude_s': '306860.2000W',\n",
       " 'base_elevation': 463.1,\n",
       " 'base_crossing_height': nan,\n",
       " 'base_glide_path_angle': nan,\n",
       " 'base_displaced_length': 300.0,\n",
       " 'base_vasi': 'NONE',\n",
       " 'base_centerline_lights': False,\n",
       " 'base_touchdown_lights': False,\n",
       " 'base_object': 'PLINE',\n",
       " 'base_object_height': 36.0,\n",
       " 'reciprocal_end_id': '35',\n",
       " 'rcpr_true_alignment': 352.0,\n",
       " 'rcpr_ils_type': 'NONE',\n",
       " 'rcpr_right_pattern': False,\n",
       " 'rcpr_markings_type': 'BSC',\n",
       " 'rcpr_markings_cond': 'F',\n",
       " 'rcpr_latitude': '31-35-46.5600N',\n",
       " 'rcpr_latitude_s': '113746.5600N',\n",
       " 'rcpr_longitude': '085-14-15.6200W',\n",
       " 'rcpr_longitude_s': '306855.6200W',\n",
       " 'rcpr_elevation': 462.8,\n",
       " 'rcpr_crossing_height': nan,\n",
       " 'rcpr_glide_path_angle': nan,\n",
       " 'rcpr_displaced_length': nan,\n",
       " 'rcpr_vasi': 'NONE',\n",
       " 'rcpr_centerline_lights': False,\n",
       " 'rcpr_touchdown_lights': False,\n",
       " 'rcpr_object': 'TREE',\n",
       " 'rcpr_object_height': 28.0,\n",
       " 'runway_capacity_lbs_sw': nan,\n",
       " 'runway_capacity_lbs_dw': nan,\n",
       " 'runway_capacity_lbs_dt': nan,\n",
       " 'runway_capacity_lbs_ddt': nan,\n",
       " 'base_tora': nan,\n",
       " 'base_toda': nan,\n",
       " 'base_asda': nan,\n",
       " 'base_lda': nan,\n",
       " 'rcpr_tora': nan,\n",
       " 'rcpr_toda': nan,\n",
       " 'rcpr_asda': nan,\n",
       " 'rcpr_lda': nan}"
      ]
     },
     "execution_count": 6,
     "metadata": {},
     "output_type": "execute_result"
    }
   ],
   "source": [
    "rwy_list[0]"
   ]
  },
  {
   "cell_type": "code",
   "execution_count": 7,
   "metadata": {},
   "outputs": [],
   "source": [
    "client = MongoClient('mongodb://localhost:27017/')"
   ]
  },
  {
   "cell_type": "code",
   "execution_count": 8,
   "metadata": {},
   "outputs": [],
   "source": [
    "db = client.us_airports"
   ]
  },
  {
   "cell_type": "code",
   "execution_count": 10,
   "metadata": {},
   "outputs": [],
   "source": [
    "runways_coll = db.runways"
   ]
  },
  {
   "cell_type": "code",
   "execution_count": 11,
   "metadata": {},
   "outputs": [],
   "source": [
    "results = runways_coll.insert_many(rwy_list)"
   ]
  },
  {
   "cell_type": "code",
   "execution_count": 17,
   "metadata": {},
   "outputs": [
    {
     "data": {
      "text/plain": [
       "True"
      ]
     },
     "execution_count": 17,
     "metadata": {},
     "output_type": "execute_result"
    }
   ],
   "source": [
    "len(results.inserted_ids) == df.shape[0]"
   ]
  },
  {
   "cell_type": "code",
   "execution_count": 19,
   "metadata": {},
   "outputs": [],
   "source": [
    "client.close()"
   ]
  },
  {
   "cell_type": "code",
   "execution_count": null,
   "metadata": {},
   "outputs": [],
   "source": []
  },
  {
   "cell_type": "code",
   "execution_count": null,
   "metadata": {},
   "outputs": [],
   "source": []
  }
 ],
 "metadata": {
  "kernelspec": {
   "display_name": "pandas_env",
   "language": "python",
   "name": "pandas_env"
  },
  "language_info": {
   "codemirror_mode": {
    "name": "ipython",
    "version": 3
   },
   "file_extension": ".py",
   "mimetype": "text/x-python",
   "name": "python",
   "nbconvert_exporter": "python",
   "pygments_lexer": "ipython3",
   "version": "3.8.1"
  }
 },
 "nbformat": 4,
 "nbformat_minor": 4
}
