{
 "cells": [
  {
   "cell_type": "code",
   "execution_count": 1,
   "metadata": {},
   "outputs": [],
   "source": [
    "import numpy as np\n",
    "import pandas as pd\n",
    "import openpyxl"
   ]
  },
  {
   "cell_type": "code",
   "execution_count": 2,
   "metadata": {},
   "outputs": [],
   "source": [
    "df_facs = pd.read_csv('../Clean-Data/facilities_dict.tsv', sep='\\t', engine='python')\n",
    "df_rwys = pd.read_csv('../Clean-Data/runways_dict.tsv', sep='\\t', engine='python')\n",
    "df_schs = pd.read_csv('../Clean-Data/schedules_dict.tsv', sep='\\t', engine='python')\n",
    "df_rems = pd.read_csv('../Clean-Data/remarks_dict.tsv', sep='\\t', engine='python')\n"
   ]
  },
  {
   "cell_type": "code",
   "execution_count": 3,
   "metadata": {},
   "outputs": [
    {
     "data": {
      "text/html": [
       "<div>\n",
       "<style scoped>\n",
       "    .dataframe tbody tr th:only-of-type {\n",
       "        vertical-align: middle;\n",
       "    }\n",
       "\n",
       "    .dataframe tbody tr th {\n",
       "        vertical-align: top;\n",
       "    }\n",
       "\n",
       "    .dataframe thead th {\n",
       "        text-align: right;\n",
       "    }\n",
       "</style>\n",
       "<table border=\"1\" class=\"dataframe\">\n",
       "  <thead>\n",
       "    <tr style=\"text-align: right;\">\n",
       "      <th></th>\n",
       "      <th>category</th>\n",
       "      <th>category_id</th>\n",
       "      <th>description</th>\n",
       "    </tr>\n",
       "  </thead>\n",
       "  <tbody>\n",
       "    <tr>\n",
       "      <th>0</th>\n",
       "      <td>site_number</td>\n",
       "      <td>DLID</td>\n",
       "      <td>Landing facility site number - a unique identi...</td>\n",
       "    </tr>\n",
       "    <tr>\n",
       "      <th>1</th>\n",
       "      <td>type</td>\n",
       "      <td>DLID</td>\n",
       "      <td>Landing facility type. (ex. Airport, Balloonpo...</td>\n",
       "    </tr>\n",
       "    <tr>\n",
       "      <th>2</th>\n",
       "      <td>location_id</td>\n",
       "      <td>E7</td>\n",
       "      <td>Location identifier unique 3-4 character alpha...</td>\n",
       "    </tr>\n",
       "    <tr>\n",
       "      <th>3</th>\n",
       "      <td>effective_date</td>\n",
       "      <td>NaN</td>\n",
       "      <td>Information effective date (mm/dd/yyyy). This ...</td>\n",
       "    </tr>\n",
       "    <tr>\n",
       "      <th>4</th>\n",
       "      <td>region</td>\n",
       "      <td>A6</td>\n",
       "      <td>FAA region code. (ex. AAL - Alaska, ACE - Cent...</td>\n",
       "    </tr>\n",
       "  </tbody>\n",
       "</table>\n",
       "</div>"
      ],
      "text/plain": [
       "         category category_id  \\\n",
       "0     site_number        DLID   \n",
       "1            type        DLID   \n",
       "2     location_id          E7   \n",
       "3  effective_date         NaN   \n",
       "4          region          A6   \n",
       "\n",
       "                                         description  \n",
       "0  Landing facility site number - a unique identi...  \n",
       "1  Landing facility type. (ex. Airport, Balloonpo...  \n",
       "2  Location identifier unique 3-4 character alpha...  \n",
       "3  Information effective date (mm/dd/yyyy). This ...  \n",
       "4  FAA region code. (ex. AAL - Alaska, ACE - Cent...  "
      ]
     },
     "execution_count": 3,
     "metadata": {},
     "output_type": "execute_result"
    }
   ],
   "source": [
    "df_facs.head()"
   ]
  },
  {
   "cell_type": "code",
   "execution_count": 4,
   "metadata": {},
   "outputs": [
    {
     "data": {
      "text/html": [
       "<div>\n",
       "<style scoped>\n",
       "    .dataframe tbody tr th:only-of-type {\n",
       "        vertical-align: middle;\n",
       "    }\n",
       "\n",
       "    .dataframe tbody tr th {\n",
       "        vertical-align: top;\n",
       "    }\n",
       "\n",
       "    .dataframe thead th {\n",
       "        text-align: right;\n",
       "    }\n",
       "</style>\n",
       "<table border=\"1\" class=\"dataframe\">\n",
       "  <thead>\n",
       "    <tr style=\"text-align: right;\">\n",
       "      <th></th>\n",
       "      <th>category</th>\n",
       "      <th>category_id</th>\n",
       "      <th>description</th>\n",
       "    </tr>\n",
       "  </thead>\n",
       "  <tbody>\n",
       "    <tr>\n",
       "      <th>0</th>\n",
       "      <td>site_number</td>\n",
       "      <td>DLID</td>\n",
       "      <td>Landing facility site number. The unique ident...</td>\n",
       "    </tr>\n",
       "    <tr>\n",
       "      <th>1</th>\n",
       "      <td>state</td>\n",
       "      <td>DLID</td>\n",
       "      <td>Runway state post office code. The state where...</td>\n",
       "    </tr>\n",
       "    <tr>\n",
       "      <th>2</th>\n",
       "      <td>runway_id</td>\n",
       "      <td>DLID</td>\n",
       "      <td>Runway identification. Ex. 01/19; 18L/36R (par...</td>\n",
       "    </tr>\n",
       "    <tr>\n",
       "      <th>3</th>\n",
       "      <td>runway_length</td>\n",
       "      <td>A31</td>\n",
       "      <td>Physical runway length (nearest foot) (ex. 3500)</td>\n",
       "    </tr>\n",
       "    <tr>\n",
       "      <th>4</th>\n",
       "      <td>runway_width</td>\n",
       "      <td>A32</td>\n",
       "      <td>Physical runway width (nearest foot) (ex. 100)</td>\n",
       "    </tr>\n",
       "  </tbody>\n",
       "</table>\n",
       "</div>"
      ],
      "text/plain": [
       "        category category_id  \\\n",
       "0    site_number        DLID   \n",
       "1          state        DLID   \n",
       "2      runway_id        DLID   \n",
       "3  runway_length         A31   \n",
       "4   runway_width         A32   \n",
       "\n",
       "                                         description  \n",
       "0  Landing facility site number. The unique ident...  \n",
       "1  Runway state post office code. The state where...  \n",
       "2  Runway identification. Ex. 01/19; 18L/36R (par...  \n",
       "3   Physical runway length (nearest foot) (ex. 3500)  \n",
       "4     Physical runway width (nearest foot) (ex. 100)  "
      ]
     },
     "execution_count": 4,
     "metadata": {},
     "output_type": "execute_result"
    }
   ],
   "source": [
    "df_rwys.head()"
   ]
  },
  {
   "cell_type": "code",
   "execution_count": 5,
   "metadata": {},
   "outputs": [
    {
     "data": {
      "text/html": [
       "<div>\n",
       "<style scoped>\n",
       "    .dataframe tbody tr th:only-of-type {\n",
       "        vertical-align: middle;\n",
       "    }\n",
       "\n",
       "    .dataframe tbody tr th {\n",
       "        vertical-align: top;\n",
       "    }\n",
       "\n",
       "    .dataframe thead th {\n",
       "        text-align: right;\n",
       "    }\n",
       "</style>\n",
       "<table border=\"1\" class=\"dataframe\">\n",
       "  <thead>\n",
       "    <tr style=\"text-align: right;\">\n",
       "      <th></th>\n",
       "      <th>category</th>\n",
       "      <th>Description</th>\n",
       "    </tr>\n",
       "  </thead>\n",
       "  <tbody>\n",
       "    <tr>\n",
       "      <th>0</th>\n",
       "      <td>site_number</td>\n",
       "      <td>Landing facility site number - a unique identi...</td>\n",
       "    </tr>\n",
       "    <tr>\n",
       "      <th>1</th>\n",
       "      <td>state</td>\n",
       "      <td>Associated state post office code standard two...</td>\n",
       "    </tr>\n",
       "    <tr>\n",
       "      <th>2</th>\n",
       "      <td>sequence_number</td>\n",
       "      <td>Attendance schedule sequence number.  A number...</td>\n",
       "    </tr>\n",
       "    <tr>\n",
       "      <th>3</th>\n",
       "      <td>attendance_schedule</td>\n",
       "      <td>Airport attendance schedule (when minimum serv...</td>\n",
       "    </tr>\n",
       "  </tbody>\n",
       "</table>\n",
       "</div>"
      ],
      "text/plain": [
       "              category                                        Description\n",
       "0          site_number  Landing facility site number - a unique identi...\n",
       "1                state  Associated state post office code standard two...\n",
       "2      sequence_number  Attendance schedule sequence number.  A number...\n",
       "3  attendance_schedule  Airport attendance schedule (when minimum serv..."
      ]
     },
     "execution_count": 5,
     "metadata": {},
     "output_type": "execute_result"
    }
   ],
   "source": [
    "df_schs.head()"
   ]
  },
  {
   "cell_type": "code",
   "execution_count": 6,
   "metadata": {},
   "outputs": [
    {
     "data": {
      "text/html": [
       "<div>\n",
       "<style scoped>\n",
       "    .dataframe tbody tr th:only-of-type {\n",
       "        vertical-align: middle;\n",
       "    }\n",
       "\n",
       "    .dataframe tbody tr th {\n",
       "        vertical-align: top;\n",
       "    }\n",
       "\n",
       "    .dataframe thead th {\n",
       "        text-align: right;\n",
       "    }\n",
       "</style>\n",
       "<table border=\"1\" class=\"dataframe\">\n",
       "  <thead>\n",
       "    <tr style=\"text-align: right;\">\n",
       "      <th></th>\n",
       "      <th>category</th>\n",
       "      <th>description</th>\n",
       "    </tr>\n",
       "  </thead>\n",
       "  <tbody>\n",
       "    <tr>\n",
       "      <th>0</th>\n",
       "      <td>site_number</td>\n",
       "      <td>Landing facility site number. The unique ident...</td>\n",
       "    </tr>\n",
       "    <tr>\n",
       "      <th>1</th>\n",
       "      <td>state</td>\n",
       "      <td>Landing facility state post office code. The s...</td>\n",
       "    </tr>\n",
       "    <tr>\n",
       "      <th>2</th>\n",
       "      <td>remark_element_name</td>\n",
       "      <td>Remark element name. This information relates ...</td>\n",
       "    </tr>\n",
       "    <tr>\n",
       "      <th>3</th>\n",
       "      <td>remarks</td>\n",
       "      <td>Remark text. Free form text that further descr...</td>\n",
       "    </tr>\n",
       "  </tbody>\n",
       "</table>\n",
       "</div>"
      ],
      "text/plain": [
       "              category                                        description\n",
       "0          site_number  Landing facility site number. The unique ident...\n",
       "1                state  Landing facility state post office code. The s...\n",
       "2  remark_element_name  Remark element name. This information relates ...\n",
       "3              remarks  Remark text. Free form text that further descr..."
      ]
     },
     "execution_count": 6,
     "metadata": {},
     "output_type": "execute_result"
    }
   ],
   "source": [
    "df_rems.head()"
   ]
  },
  {
   "cell_type": "code",
   "execution_count": 7,
   "metadata": {},
   "outputs": [],
   "source": [
    "outfile = '../Clean-Data/definitions_dict.xlsx'"
   ]
  },
  {
   "cell_type": "code",
   "execution_count": 8,
   "metadata": {},
   "outputs": [],
   "source": [
    "# with open(outfile, mode='wb'):\n",
    "#     wb = openpyxl.Workbook()\n",
    "#     wb.save(filename=outfile)\n",
    "#      "
   ]
  },
  {
   "cell_type": "code",
   "execution_count": 9,
   "metadata": {},
   "outputs": [],
   "source": [
    "with pd.ExcelWriter(outfile) as writer:\n",
    "    df_facs.to_excel(writer, sheet_name='Facilites', index=False)\n",
    "    df_rwys.to_excel(writer, sheet_name='Runways', index=False)\n",
    "    df_schs.to_excel(writer, sheet_name='Schedules', index=False)\n",
    "    df_rems.to_excel(writer, sheet_name='Remarks', index=False)"
   ]
  },
  {
   "cell_type": "code",
   "execution_count": null,
   "metadata": {},
   "outputs": [],
   "source": []
  }
 ],
 "metadata": {
  "kernelspec": {
   "display_name": "Python 3",
   "language": "python",
   "name": "python3"
  },
  "language_info": {
   "codemirror_mode": {
    "name": "ipython",
    "version": 3
   },
   "file_extension": ".py",
   "mimetype": "text/x-python",
   "name": "python",
   "nbconvert_exporter": "python",
   "pygments_lexer": "ipython3",
   "version": "3.8.1"
  }
 },
 "nbformat": 4,
 "nbformat_minor": 4
}
