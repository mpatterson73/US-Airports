{
 "cells": [
  {
   "cell_type": "code",
   "execution_count": 1,
   "metadata": {},
   "outputs": [],
   "source": [
    "import numpy as np\n",
    "import pandas as pd\n",
    "import re\n",
    "import openpyxl"
   ]
  },
  {
   "cell_type": "code",
   "execution_count": 2,
   "metadata": {},
   "outputs": [],
   "source": [
    "infile = open('airport-data-dictionaries.xlsx', mode='r+b')"
   ]
  },
  {
   "cell_type": "code",
   "execution_count": 3,
   "metadata": {},
   "outputs": [
    {
     "data": {
      "text/html": [
       "<div>\n",
       "<style scoped>\n",
       "    .dataframe tbody tr th:only-of-type {\n",
       "        vertical-align: middle;\n",
       "    }\n",
       "\n",
       "    .dataframe tbody tr th {\n",
       "        vertical-align: top;\n",
       "    }\n",
       "\n",
       "    .dataframe thead th {\n",
       "        text-align: right;\n",
       "    }\n",
       "</style>\n",
       "<table border=\"1\" class=\"dataframe\">\n",
       "  <thead>\n",
       "    <tr style=\"text-align: right;\">\n",
       "      <th></th>\n",
       "      <th>Description</th>\n",
       "    </tr>\n",
       "    <tr>\n",
       "      <th>Field</th>\n",
       "      <th></th>\n",
       "    </tr>\n",
       "  </thead>\n",
       "  <tbody>\n",
       "    <tr>\n",
       "      <th>SiteNumber</th>\n",
       "      <td>Landing facility site number. The unique identifying number of the airport whose associated remarks are being described. Together with the remark element number field, this provides the unique key to a remark record.</td>\n",
       "    </tr>\n",
       "    <tr>\n",
       "      <th>State</th>\n",
       "      <td>Landing facility state post office code. The state where the landing facility is located. This is used in sorting the entire file by state and site number.</td>\n",
       "    </tr>\n",
       "    <tr>\n",
       "      <th>RemarkElementName</th>\n",
       "      <td>Remark element name. This information relates a remark to one of the previously described data elements. For specific remarks related to an airport or common runway data, the value will be just the data element name. For specific remarks pertaining to a runway end the format will be the data element name followed by the runway end.  For non-specific remarks, this field will be A110-N where N is a sequential number (ex. E111, A110-3, A42-18, A55-H1)</td>\n",
       "    </tr>\n",
       "    <tr>\n",
       "      <th>Remarks</th>\n",
       "      <td>Remark text. Free form text that further describes a specific information item or may be general in nature.</td>\n",
       "    </tr>\n",
       "  </tbody>\n",
       "</table>\n",
       "</div>"
      ],
      "text/plain": [
       "                                                                                                                                                                                                                                                                                                                                                                                                                                                                            Description\n",
       "Field                                                                                                                                                                                                                                                                                                                                                                                                                                                                                  \n",
       "SiteNumber                                                                                                                                                                                                                                                     Landing facility site number. The unique identifying number of the airport whose associated remarks are being described. Together with the remark element number field, this provides the unique key to a remark record.\n",
       "State                                                                                                                                                                                                                                                                                                                       Landing facility state post office code. The state where the landing facility is located. This is used in sorting the entire file by state and site number.\n",
       "RemarkElementName  Remark element name. This information relates a remark to one of the previously described data elements. For specific remarks related to an airport or common runway data, the value will be just the data element name. For specific remarks pertaining to a runway end the format will be the data element name followed by the runway end.  For non-specific remarks, this field will be A110-N where N is a sequential number (ex. E111, A110-3, A42-18, A55-H1)\n",
       "Remarks                                                                                                                                                                                                                                                                                                                                                                     Remark text. Free form text that further describes a specific information item or may be general in nature."
      ]
     },
     "execution_count": 3,
     "metadata": {},
     "output_type": "execute_result"
    }
   ],
   "source": [
    "df = pd.read_excel(infile, sheet_name=1, index_col='Field', usecols='A,C')\n",
    "\n",
    "pd.set_option('display.max_columns', 5)\n",
    "pd.set_option('display.max_rows', 5)\n",
    "pd.set_option('display.max_colwidth', None)\n",
    "df"
   ]
  },
  {
   "cell_type": "code",
   "execution_count": 4,
   "metadata": {},
   "outputs": [],
   "source": [
    "df.columns = df.columns.str.strip().str.lower()"
   ]
  },
  {
   "cell_type": "code",
   "execution_count": 5,
   "metadata": {},
   "outputs": [],
   "source": [
    "df.index = df.index.rename('category')"
   ]
  },
  {
   "cell_type": "code",
   "execution_count": 6,
   "metadata": {},
   "outputs": [
    {
     "data": {
      "text/html": [
       "<div>\n",
       "<style scoped>\n",
       "    .dataframe tbody tr th:only-of-type {\n",
       "        vertical-align: middle;\n",
       "    }\n",
       "\n",
       "    .dataframe tbody tr th {\n",
       "        vertical-align: top;\n",
       "    }\n",
       "\n",
       "    .dataframe thead th {\n",
       "        text-align: right;\n",
       "    }\n",
       "</style>\n",
       "<table border=\"1\" class=\"dataframe\">\n",
       "  <thead>\n",
       "    <tr style=\"text-align: right;\">\n",
       "      <th></th>\n",
       "      <th>description</th>\n",
       "    </tr>\n",
       "    <tr>\n",
       "      <th>category</th>\n",
       "      <th></th>\n",
       "    </tr>\n",
       "  </thead>\n",
       "  <tbody>\n",
       "    <tr>\n",
       "      <th>SiteNumber</th>\n",
       "      <td>Landing facility site number. The unique identifying number of the airport whose associated remarks are being described. Together with the remark element number field, this provides the unique key to a remark record.</td>\n",
       "    </tr>\n",
       "    <tr>\n",
       "      <th>State</th>\n",
       "      <td>Landing facility state post office code. The state where the landing facility is located. This is used in sorting the entire file by state and site number.</td>\n",
       "    </tr>\n",
       "    <tr>\n",
       "      <th>RemarkElementName</th>\n",
       "      <td>Remark element name. This information relates a remark to one of the previously described data elements. For specific remarks related to an airport or common runway data, the value will be just the data element name. For specific remarks pertaining to a runway end the format will be the data element name followed by the runway end.  For non-specific remarks, this field will be A110-N where N is a sequential number (ex. E111, A110-3, A42-18, A55-H1)</td>\n",
       "    </tr>\n",
       "    <tr>\n",
       "      <th>Remarks</th>\n",
       "      <td>Remark text. Free form text that further describes a specific information item or may be general in nature.</td>\n",
       "    </tr>\n",
       "  </tbody>\n",
       "</table>\n",
       "</div>"
      ],
      "text/plain": [
       "                                                                                                                                                                                                                                                                                                                                                                                                                                                                            description\n",
       "category                                                                                                                                                                                                                                                                                                                                                                                                                                                                               \n",
       "SiteNumber                                                                                                                                                                                                                                                     Landing facility site number. The unique identifying number of the airport whose associated remarks are being described. Together with the remark element number field, this provides the unique key to a remark record.\n",
       "State                                                                                                                                                                                                                                                                                                                       Landing facility state post office code. The state where the landing facility is located. This is used in sorting the entire file by state and site number.\n",
       "RemarkElementName  Remark element name. This information relates a remark to one of the previously described data elements. For specific remarks related to an airport or common runway data, the value will be just the data element name. For specific remarks pertaining to a runway end the format will be the data element name followed by the runway end.  For non-specific remarks, this field will be A110-N where N is a sequential number (ex. E111, A110-3, A42-18, A55-H1)\n",
       "Remarks                                                                                                                                                                                                                                                                                                                                                                     Remark text. Free form text that further describes a specific information item or may be general in nature."
      ]
     },
     "execution_count": 6,
     "metadata": {},
     "output_type": "execute_result"
    }
   ],
   "source": [
    "df"
   ]
  },
  {
   "cell_type": "code",
   "execution_count": 7,
   "metadata": {},
   "outputs": [],
   "source": [
    "infile.close()"
   ]
  },
  {
   "cell_type": "code",
   "execution_count": 9,
   "metadata": {},
   "outputs": [],
   "source": [
    "outfile = '../Clean-Data/remarka_defs_clean.tsv'\n",
    "df.to_csv(outfile, sep='\\t')\n"
   ]
  },
  {
   "cell_type": "code",
   "execution_count": null,
   "metadata": {},
   "outputs": [],
   "source": []
  }
 ],
 "metadata": {
  "kernelspec": {
   "display_name": "Python 3",
   "language": "python",
   "name": "python3"
  },
  "language_info": {
   "codemirror_mode": {
    "name": "ipython",
    "version": 3
   },
   "file_extension": ".py",
   "mimetype": "text/x-python",
   "name": "python",
   "nbconvert_exporter": "python",
   "pygments_lexer": "ipython3",
   "version": "3.8.1"
  }
 },
 "nbformat": 4,
 "nbformat_minor": 4
}
