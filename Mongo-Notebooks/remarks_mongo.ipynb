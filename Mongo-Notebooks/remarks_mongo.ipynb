{
 "cells": [
  {
   "cell_type": "code",
   "execution_count": 1,
   "metadata": {},
   "outputs": [],
   "source": [
    "import numpy as np\n",
    "import pandas as pd\n",
    "from pymongo import MongoClient"
   ]
  },
  {
   "cell_type": "code",
   "execution_count": 2,
   "metadata": {},
   "outputs": [],
   "source": [
    "df = pd.read_csv(\"../../Clean-Data/remarks_clean.tsv\", sep='\\t', engine='python')"
   ]
  },
  {
   "cell_type": "code",
   "execution_count": 3,
   "metadata": {},
   "outputs": [
    {
     "data": {
      "text/plain": [
       "(91582, 4)"
      ]
     },
     "execution_count": 3,
     "metadata": {},
     "output_type": "execute_result"
    }
   ],
   "source": [
    "df.shape"
   ]
  },
  {
   "cell_type": "code",
   "execution_count": 4,
   "metadata": {},
   "outputs": [],
   "source": [
    "pd.set_option('display.max_rows', 100)"
   ]
  },
  {
   "cell_type": "code",
   "execution_count": 5,
   "metadata": {},
   "outputs": [
    {
     "data": {
      "text/html": [
       "<div>\n",
       "<style scoped>\n",
       "    .dataframe tbody tr th:only-of-type {\n",
       "        vertical-align: middle;\n",
       "    }\n",
       "\n",
       "    .dataframe tbody tr th {\n",
       "        vertical-align: top;\n",
       "    }\n",
       "\n",
       "    .dataframe thead th {\n",
       "        text-align: right;\n",
       "    }\n",
       "</style>\n",
       "<table border=\"1\" class=\"dataframe\">\n",
       "  <thead>\n",
       "    <tr style=\"text-align: right;\">\n",
       "      <th></th>\n",
       "      <th>site_number</th>\n",
       "      <th>state</th>\n",
       "      <th>remark_element_name</th>\n",
       "      <th>remarks</th>\n",
       "    </tr>\n",
       "  </thead>\n",
       "  <tbody>\n",
       "    <tr>\n",
       "      <th>0</th>\n",
       "      <td>00103.*A</td>\n",
       "      <td>AL</td>\n",
       "      <td>A110-1</td>\n",
       "      <td>FOR CD CTC CAIRNS APCH AT 334-255-8402 OR 334-...</td>\n",
       "    </tr>\n",
       "    <tr>\n",
       "      <th>1</th>\n",
       "      <td>00103.*A</td>\n",
       "      <td>AL</td>\n",
       "      <td>A57-17</td>\n",
       "      <td>RY 17 APCH SLOPE 50:1 TO DSPLCD THLD.</td>\n",
       "    </tr>\n",
       "    <tr>\n",
       "      <th>2</th>\n",
       "      <td>00103.*A</td>\n",
       "      <td>AL</td>\n",
       "      <td>A81-APT</td>\n",
       "      <td>ACTVT MIRL RY 18/36 - CTAF.</td>\n",
       "    </tr>\n",
       "    <tr>\n",
       "      <th>3</th>\n",
       "      <td>00103.*A</td>\n",
       "      <td>AL</td>\n",
       "      <td>A82</td>\n",
       "      <td>UNICOM IS LCTD AT POLICE STATION.</td>\n",
       "    </tr>\n",
       "    <tr>\n",
       "      <th>4</th>\n",
       "      <td>00103.*A</td>\n",
       "      <td>AL</td>\n",
       "      <td>E111</td>\n",
       "      <td>EXISTED PRIOR TO MAY 15, 1959.</td>\n",
       "    </tr>\n",
       "    <tr>\n",
       "      <th>5</th>\n",
       "      <td>00106.*A</td>\n",
       "      <td>AL</td>\n",
       "      <td>A110-1</td>\n",
       "      <td>FOR CD CTC MEMPHIS ARTCC AT 901-368-8453.</td>\n",
       "    </tr>\n",
       "    <tr>\n",
       "      <th>6</th>\n",
       "      <td>00106.*A</td>\n",
       "      <td>AL</td>\n",
       "      <td>A42-05</td>\n",
       "      <td>MKD BY WHITE CONES WITH BLACK TIPS.</td>\n",
       "    </tr>\n",
       "    <tr>\n",
       "      <th>7</th>\n",
       "      <td>00106.*A</td>\n",
       "      <td>AL</td>\n",
       "      <td>A42-23</td>\n",
       "      <td>MKD BY WHITE CONES WITH BLACK TIPS.</td>\n",
       "    </tr>\n",
       "    <tr>\n",
       "      <th>8</th>\n",
       "      <td>00106.*A</td>\n",
       "      <td>AL</td>\n",
       "      <td>E111</td>\n",
       "      <td>PRVDD VFR USE ONLY.</td>\n",
       "    </tr>\n",
       "    <tr>\n",
       "      <th>9</th>\n",
       "      <td>00108.*A</td>\n",
       "      <td>AL</td>\n",
       "      <td>A110-1</td>\n",
       "      <td>FOR CD CTC ATLANTA ARTCC AT 770-210-7692.</td>\n",
       "    </tr>\n",
       "  </tbody>\n",
       "</table>\n",
       "</div>"
      ],
      "text/plain": [
       "  site_number state remark_element_name  \\\n",
       "0    00103.*A    AL              A110-1   \n",
       "1    00103.*A    AL              A57-17   \n",
       "2    00103.*A    AL             A81-APT   \n",
       "3    00103.*A    AL                 A82   \n",
       "4    00103.*A    AL                E111   \n",
       "5    00106.*A    AL              A110-1   \n",
       "6    00106.*A    AL              A42-05   \n",
       "7    00106.*A    AL              A42-23   \n",
       "8    00106.*A    AL                E111   \n",
       "9    00108.*A    AL              A110-1   \n",
       "\n",
       "                                             remarks  \n",
       "0  FOR CD CTC CAIRNS APCH AT 334-255-8402 OR 334-...  \n",
       "1              RY 17 APCH SLOPE 50:1 TO DSPLCD THLD.  \n",
       "2                        ACTVT MIRL RY 18/36 - CTAF.  \n",
       "3                  UNICOM IS LCTD AT POLICE STATION.  \n",
       "4                     EXISTED PRIOR TO MAY 15, 1959.  \n",
       "5          FOR CD CTC MEMPHIS ARTCC AT 901-368-8453.  \n",
       "6                MKD BY WHITE CONES WITH BLACK TIPS.  \n",
       "7                MKD BY WHITE CONES WITH BLACK TIPS.  \n",
       "8                                PRVDD VFR USE ONLY.  \n",
       "9          FOR CD CTC ATLANTA ARTCC AT 770-210-7692.  "
      ]
     },
     "execution_count": 5,
     "metadata": {},
     "output_type": "execute_result"
    }
   ],
   "source": [
    "df.head(10)"
   ]
  },
  {
   "cell_type": "code",
   "execution_count": 6,
   "metadata": {},
   "outputs": [],
   "source": [
    "remarks_list = df.to_dict(orient='records')"
   ]
  },
  {
   "cell_type": "code",
   "execution_count": 7,
   "metadata": {},
   "outputs": [
    {
     "data": {
      "text/plain": [
       "[{'site_number': '00103.*A',\n",
       "  'state': 'AL',\n",
       "  'remark_element_name': 'A110-1',\n",
       "  'remarks': 'FOR CD CTC CAIRNS APCH AT 334-255-8402 OR 334-255-8460, WHEN APCH CLSD CTC JACKSONVILLE ARTCC AT 904-845-1592.'},\n",
       " {'site_number': '00103.*A',\n",
       "  'state': 'AL',\n",
       "  'remark_element_name': 'A57-17',\n",
       "  'remarks': 'RY 17 APCH SLOPE 50:1 TO DSPLCD THLD.'},\n",
       " {'site_number': '00103.*A',\n",
       "  'state': 'AL',\n",
       "  'remark_element_name': 'A81-APT',\n",
       "  'remarks': 'ACTVT MIRL RY 18/36 - CTAF.'},\n",
       " {'site_number': '00103.*A',\n",
       "  'state': 'AL',\n",
       "  'remark_element_name': 'A82',\n",
       "  'remarks': 'UNICOM IS LCTD AT POLICE STATION.'},\n",
       " {'site_number': '00103.*A',\n",
       "  'state': 'AL',\n",
       "  'remark_element_name': 'E111',\n",
       "  'remarks': 'EXISTED PRIOR TO MAY 15, 1959.'},\n",
       " {'site_number': '00106.*A',\n",
       "  'state': 'AL',\n",
       "  'remark_element_name': 'A110-1',\n",
       "  'remarks': 'FOR CD CTC MEMPHIS ARTCC AT 901-368-8453.'},\n",
       " {'site_number': '00106.*A',\n",
       "  'state': 'AL',\n",
       "  'remark_element_name': 'A42-05',\n",
       "  'remarks': 'MKD BY WHITE CONES WITH BLACK TIPS.'},\n",
       " {'site_number': '00106.*A',\n",
       "  'state': 'AL',\n",
       "  'remark_element_name': 'A42-23',\n",
       "  'remarks': 'MKD BY WHITE CONES WITH BLACK TIPS.'},\n",
       " {'site_number': '00106.*A',\n",
       "  'state': 'AL',\n",
       "  'remark_element_name': 'E111',\n",
       "  'remarks': 'PRVDD VFR USE ONLY.'},\n",
       " {'site_number': '00108.*A',\n",
       "  'state': 'AL',\n",
       "  'remark_element_name': 'A110-1',\n",
       "  'remarks': 'FOR CD CTC ATLANTA ARTCC AT 770-210-7692.'}]"
      ]
     },
     "execution_count": 7,
     "metadata": {},
     "output_type": "execute_result"
    }
   ],
   "source": [
    "remarks_list[:10]"
   ]
  },
  {
   "cell_type": "code",
   "execution_count": 8,
   "metadata": {},
   "outputs": [],
   "source": [
    "client = MongoClient('mongodb://localhost:27017/')\n",
    "db = client.us_airports\n",
    "remarks_coll = db.remarks"
   ]
  },
  {
   "cell_type": "code",
   "execution_count": 9,
   "metadata": {},
   "outputs": [],
   "source": [
    "results = remarks_coll.insert_many(remarks_list)"
   ]
  },
  {
   "cell_type": "code",
   "execution_count": 10,
   "metadata": {},
   "outputs": [
    {
     "data": {
      "text/plain": [
       "True"
      ]
     },
     "execution_count": 10,
     "metadata": {},
     "output_type": "execute_result"
    }
   ],
   "source": [
    "len(results.inserted_ids) == df.shape[0]"
   ]
  },
  {
   "cell_type": "code",
   "execution_count": 11,
   "metadata": {},
   "outputs": [],
   "source": [
    "client.close()"
   ]
  },
  {
   "cell_type": "code",
   "execution_count": null,
   "metadata": {},
   "outputs": [],
   "source": []
  }
 ],
 "metadata": {
  "kernelspec": {
   "display_name": "pandas_env",
   "language": "python",
   "name": "pandas_env"
  },
  "language_info": {
   "codemirror_mode": {
    "name": "ipython",
    "version": 3
   },
   "file_extension": ".py",
   "mimetype": "text/x-python",
   "name": "python",
   "nbconvert_exporter": "python",
   "pygments_lexer": "ipython3",
   "version": "3.8.1"
  }
 },
 "nbformat": 4,
 "nbformat_minor": 4
}
